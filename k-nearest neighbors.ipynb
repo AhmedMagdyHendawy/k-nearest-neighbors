{
 "cells": [
  {
   "cell_type": "markdown",
   "metadata": {
    "colab_type": "text",
    "id": "8Fog6r8dZ2Ey"
   },
   "source": [
    "# Assignment 1: k-nearest neighbors\n",
    "\n",
    "Only use the already imported libraries `numpy` and `matplotlib.pyplot` for the assignment. Do not import any other library. "
   ]
  },
  {
   "cell_type": "code",
   "execution_count": 1,
   "metadata": {
    "colab": {},
    "colab_type": "code",
    "id": "DA52UY8FZ2E0"
   },
   "outputs": [],
   "source": [
    "# Load required packages and dataset. Do not modify.\n",
    "import matplotlib.pyplot as plt\n",
    "import numpy as np\n",
    "\n",
    "\n",
    "def load_iris_dataset():\n",
    "    from sklearn import datasets\n",
    "    iris = datasets.load_iris()\n",
    "    X = iris.data\n",
    "    y = iris.target\n",
    "    return X, y\n",
    "    \n",
    "X, y = load_iris_dataset()"
   ]
  },
  {
   "cell_type": "markdown",
   "metadata": {
    "colab_type": "text",
    "id": "fAy7Rf__Z2E7"
   },
   "source": [
    "## Task 1: Visualization and Preprocessing\n",
    "\n",
    "1) Explain the content of the dataset in few words. What are the input features? What is the classification target? Check out: [https://en.wikipedia.org/wiki/Iris_flower_data_set](https://en.wikipedia.org/wiki/Iris_flower_data_set).\n"
   ]
  },
  {
   "cell_type": "markdown",
   "metadata": {
    "colab_type": "text",
    "id": "e5WnsRKGZ2E8"
   },
   "source": [
    "==> the dataset consists of flowers with three different classes and 4 interval features which are the length and width of sepals and petals "
   ]
  },
  {
   "cell_type": "markdown",
   "metadata": {
    "colab_type": "text",
    "id": "0cEAOvviZ2E-"
   },
   "source": [
    "2) Compute and print the following statistics about the dataset:\n",
    "  - Number of samples\n",
    "  - Number of samples per class\n",
    "  - Mean and standard deviation for each input feature\n"
   ]
  },
  {
   "cell_type": "code",
   "execution_count": 2,
   "metadata": {
    "colab": {
     "base_uri": "https://localhost:8080/",
     "height": 221
    },
    "colab_type": "code",
    "id": "c3_CzBXIZ2E_",
    "outputId": "7f030c19-f4fa-4561-cc0a-444e4e7789b6"
   },
   "outputs": [
    {
     "name": "stdout",
     "output_type": "stream",
     "text": [
      "dataset contains 150 samples\n",
      "class 0 contains 50 samples\n",
      "class 1 contains 50 samples\n",
      "class 2 contains 50 samples\n",
      "mean of feature 0 is 5.843333333333334\n",
      "standard deviation of feature 0 is 0.8253012917851409\n",
      "mean of feature 1 is 3.0540000000000003\n",
      "standard deviation of feature 1 is 0.4321465800705435\n",
      "mean of feature 2 is 3.758666666666666\n",
      "standard deviation of feature 2 is 1.7585291834055212\n",
      "mean of feature 3 is 1.1986666666666668\n",
      "standard deviation of feature 3 is 0.7606126185881716\n"
     ]
    }
   ],
   "source": [
    "np.random.seed(0)\n",
    "print('dataset contains {} samples'.format(X.shape[0]))\n",
    "classes,number_of_samples_per_class=np.unique(y,return_counts=True)\n",
    "for i in range(len(number_of_samples_per_class)):\n",
    "    print('class {} contains {} samples'.format(i,number_of_samples_per_class[i]))\n",
    "for i in range(X.shape[1]):\n",
    "    print('mean of feature {} is {}'.format(i,np.mean(X[:,i])))\n",
    "    print('standard deviation of feature {} is {}'.format(i,np.std(X[:,i])))\n",
    "    "
   ]
  },
  {
   "cell_type": "markdown",
   "metadata": {
    "colab_type": "text",
    "id": "_jC_I6x2Z2FG"
   },
   "source": [
    "3) Visualize the variables Sepal length and Petal length in a scatter plot (Sepal length on the x-axis, petal length on the y-axis). Color each point of the plot according to its class."
   ]
  },
  {
   "cell_type": "code",
   "execution_count": 3,
   "metadata": {
    "colab": {
     "base_uri": "https://localhost:8080/",
     "height": 265
    },
    "colab_type": "code",
    "id": "7jfMd8z6Z2FH",
    "outputId": "762cb7d1-8e78-4367-9620-53db23b9ce09"
   },
   "outputs": [
    {
     "data": {
      "image/png": "[encoded data removed]",
      "text/plain": [
       "<Figure size 432x288 with 1 Axes>"
      ]
     },
     "metadata": {
      "needs_background": "light"
     },
     "output_type": "display_data"
    }
   ],
   "source": [
    "fig, ax = plt.subplots()\n",
    "scatter = ax.scatter(X[:,0], X[:,2], c=y)\n",
    "# produce a legend with the unique colors from the scatter\n",
    "legend1 = ax.legend(*scatter.legend_elements(),\n",
    "                    loc=\"lower left\", title=\"Classes\")\n",
    "legend2 = ax.add_artist(legend1)"
   ]
  },
  {
   "cell_type": "markdown",
   "metadata": {
    "colab_type": "text",
    "id": "RL8CsuQvZ2FO"
   },
   "source": [
    "4) Split the dataset randomly into training and test data. 70% of data should be used for training and 30% should be used for testing. Implement the function `train_test_split`. Do not modify the interface of the function."
   ]
  },
  {
   "cell_type": "code",
   "execution_count": 4,
   "metadata": {
    "colab": {},
    "colab_type": "code",
    "id": "EbTtk52fZ2FP"
   },
   "outputs": [],
   "source": [
    "def train_test_split(X, y):\n",
    "    \"\"\"\n",
    "    Returns X_train, X_test, y_train, y_test, \n",
    "        where X_train and X_test are the input features of the training and test set,\n",
    "        and y_train and y_test are the class labels of the training and test set.\n",
    "    \"\"\"\n",
    "    X_train=[]\n",
    "    y_train=np.array([],dtype=int)\n",
    "    X_test=[]\n",
    "    y_test=np.array([],dtype=int)\n",
    "\n",
    "    for i in classes:\n",
    "        \n",
    "        class_mask=y==i\n",
    "        X_class,y_class=X[class_mask],y[class_mask]\n",
    "        indices = np.random.permutation(X_class.shape[0])\n",
    "        X_train.append(X_class[indices[:int(0.7*X_class.shape[0])]])\n",
    "        X_test.append(X_class[indices[int(0.7*X_class.shape[0]):]])\n",
    "        y_train=np.append(y_train,y_class[indices[:int(0.7*X_class.shape[0])]])\n",
    "        y_test=np.append(y_test,y_class[indices[int(0.7*X_class.shape[0]):]])\n",
    "                        \n",
    "    return np.vstack(X_train),np.vstack(X_test),y_train,y_test\n",
    "\n",
    "X_train, X_test, y_train, y_test = train_test_split(X, y)\n",
    "\n",
    "\n",
    "assert (X_train.shape[0] + X_test.shape[0]) == X.shape[0]\n",
    "assert (y_train.shape[0] + y_test.shape[0]) == y.shape[0]\n",
    "assert X_train.shape[1] == X_test.shape[1]"
   ]
  },
  {
   "cell_type": "markdown",
   "metadata": {
    "colab_type": "text",
    "id": "5LQ9MpOsZ2FU"
   },
   "source": [
    "5) kNN uses a distance measure to identify close neighbors. If the input features are not of the same scale, the distance is not as meaningful, which can negatively impact classification performance. Perform min-max scaling (i.e. scale the values of the input features in such a way that their range is from 0 to 1) on the training and test data. Remember that you should only use information from the training data to perform the scaling on both data sets."
   ]
  },
  {
   "cell_type": "code",
   "execution_count": 5,
   "metadata": {
    "colab": {},
    "colab_type": "code",
    "id": "-Gr5TwQJZ2FV"
   },
   "outputs": [],
   "source": [
    "for i in range(X_train.shape[1]):\n",
    "    feature_min=X_train[:,i].min()\n",
    "    feature_max=X_train[:,i].max()\n",
    "    X_train[:,i]=(X_train[:,i]-feature_min)/(feature_max-feature_min)\n",
    "    X_test[:,i]=(X_test[:,i]-feature_min)/(feature_max-feature_min)\n"
   ]
  },
  {
   "cell_type": "markdown",
   "metadata": {
    "colab_type": "text",
    "id": "U5QtpbRoZ2FY"
   },
   "source": [
    "## Task 2: k-nearest neighbors\n",
    "\n",
    "**For B.Sc. Data Science:**  \n",
    "Implement the kNN algorithm with uniform weighting and arbitrary `k`. Fill out the `predict` method of class `KNearestNeighborsClassifier`. \n",
    "\n",
    "Use Euclidean distance to determine the nearest neighbors.\n",
    "You can ignore the optional parameter `distance_metric`, which is provided as a field in the kNN class.\n",
    "\n",
    "**For everyone else:**  \n",
    "Implement the kNN algorithm with distance-based weighting and arbitrary `k`.\n",
    "Fill out the `predict` method of class `KNearestNeighborsClassifier`.\n",
    "\n",
    "The parameter `distance_metric` will either contain the string `uniform` or a function. If the value is `uniform`, the classifier should use the Euclidean distance for determining nearest neighbors and uniform weighting. If the value is a function, the classifier should use the function as distance metric and perform distance-weighted classification. An example distance metric is provided with `euclidean_distance`."
   ]
  },
  {
   "cell_type": "code",
   "execution_count": 6,
   "metadata": {
    "colab": {},
    "colab_type": "code",
    "id": "NXmIinAEZ2FZ"
   },
   "outputs": [],
   "source": [
    "class KNearestNeighbors(object):\n",
    "    def __init__(self, k, distance_metric='uniform'):\n",
    "        self.k = k\n",
    "        self.distance_metric = distance_metric\n",
    "        \n",
    "    def fit(self, X, y):\n",
    "        \"\"\"\n",
    "        This functions saves the training data to be used during the prediction.\n",
    "        \"\"\"\n",
    "        self.X = X\n",
    "        self.y = y\n",
    "    \n",
    "    def predict(self, X):\n",
    "        \"\"\"\n",
    "        Returns a vector of shape (n,) if X has shape (n,d), \n",
    "        where n is the number of samples and d is the number of features.\n",
    "        \"\"\"\n",
    "        y=np.zeros(X.shape[0],dtype=int)\n",
    "        distances=np.zeros(self.X.shape[0])\n",
    "        sorted_distances_args=np.zeros(self.X.shape[0])\n",
    "        for j in range(X.shape[0]):\n",
    "            for i in range(self.X.shape[0]):\n",
    "                if self.distance_metric=='uniform':\n",
    "                    distances[i]=euclidean_distance(X[j],self.X[i])\n",
    "                else:\n",
    "                    distances[i]=self.distance_metric(X[j],self.X[i])\n",
    "            k_min_distances_args=np.argsort(distances)[0:self.k]\n",
    "            if self.distance_metric=='uniform':\n",
    "                weights=np.ones_like(k_min_distances_args)\n",
    "            else:\n",
    "                epsilon = 1e-8\n",
    "                weights=1.0/(distances[k_min_distances_args]+epsilon)\n",
    "            y[j]=np.bincount(self.y[k_min_distances_args],weights).argmax()       \n",
    "        return y\n",
    "\n",
    "    \n",
    "def euclidean_distance(x1, x2):\n",
    "    \"\"\"\n",
    "    Given vectors x1 and x2 with shape (n,) returns distance between vectors as float.\n",
    "    \"\"\"\n",
    "    return np.sqrt(np.sum((x1 - x2)*(x1 - x2)))"
   ]
  },
  {
   "cell_type": "markdown",
   "metadata": {
    "colab_type": "text",
    "id": "iGy6kAS-Z2Fc"
   },
   "source": [
    "## Task 3: Evaluation\n",
    "\n",
    "1) Implement functions to compute precision, recall and F1-score. `y_pred` and `y_true` are the vectors of predicted and true class labels respectively with shape `(n,)`, where `n` is the number of samples. Each function should return a float containing the corresponding score."
   ]
  },
  {
   "cell_type": "code",
   "execution_count": 7,
   "metadata": {
    "colab": {},
    "colab_type": "code",
    "id": "1AcnLp29Z2Fc"
   },
   "outputs": [],
   "source": [
    "def precision(y_pred, y_true):\n",
    "    y_concatenated=np.concatenate((y_pred[:,np.newaxis],y_true[:,np.newaxis]),axis=1)\n",
    "    indecies_in_confustion,counts=np.unique(y_concatenated,return_counts=True,axis=0)\n",
    "    confustion_matrix=np.zeros((classes.shape[0],classes.shape[0]))\n",
    "    confustion_matrix[indecies_in_confustion[:,0],indecies_in_confustion[:,1]]=counts\n",
    "    precision=np.zeros(classes.shape[0],dtype=float)\n",
    "    for i in range(classes.shape[0]) :\n",
    "        precision[i]=confustion_matrix[i,i]/np.sum(confustion_matrix[i,:])\n",
    "    return np.mean(precision)\n",
    "\n",
    "def recall(y_pred, y_true):\n",
    "    y_concatenated=np.concatenate((y_pred[:,np.newaxis],y_true[:,np.newaxis]),axis=1)\n",
    "    indecies_in_confustion,counts=np.unique(y_concatenated,return_counts=True,axis=0)\n",
    "    confustion_matrix=np.zeros((classes.shape[0],classes.shape[0]))\n",
    "    confustion_matrix[indecies_in_confustion[:,0],indecies_in_confustion[:,1]]=counts\n",
    "    recall=np.zeros(classes.shape[0],dtype=float)\n",
    "    for i in range(classes.shape[0]) :\n",
    "        recall[i]=confustion_matrix[i,i]/np.sum(confustion_matrix[:,i])\n",
    "    return np.mean(recall)\n",
    "\n",
    "def f1score(y_pred, y_true):\n",
    "    precision_arr=precision(y_pred,y_true)\n",
    "    recall_arr=recall(y_pred,y_true)\n",
    "    return 2*precision_arr*recall_arr/(precision_arr+recall_arr)"
   ]
  },
  {
   "cell_type": "markdown",
   "metadata": {
    "colab_type": "text",
    "id": "C3SptmHqZ2Ff"
   },
   "source": [
    "2) Evaluate the performance of kNN with uniform weighting on the Iris dataset for `k=1,3,5`. Train each of the `3` classifiers on the training data from Task 1. Perform the predictions on both the training and test data. Then compute precision, recall, and F1-score for each model and for both training and test data. Print all scores per model. What do you observe?\n",
    "\n",
    "**For all students other than B.Sc. Data Science:** \n",
    "Evaluate the kNN classifier with Euclidean distance-weighting. Compare the performance to uniform-weighting. How does the performance change compared to uniform weighting for each `k`?"
   ]
  },
  {
   "cell_type": "code",
   "execution_count": 8,
   "metadata": {
    "colab": {
     "base_uri": "https://localhost:8080/",
     "height": 748
    },
    "colab_type": "code",
    "id": "dczi89dbZ2Ff",
    "outputId": "0d89cfee-413e-4057-bd59-fbb9524269c7"
   },
   "outputs": [
    {
     "name": "stdout",
     "output_type": "stream",
     "text": [
      "uniform classifier with k =1\n",
      "\tprecision for training data : 1.0\n",
      "\trecall for training data : 1.0\n",
      "\tf1 score for training data : 1.0\n",
      "\tprecision for test data : 0.9791666666666666\n",
      "\trecall for test data : 0.9777777777777779\n",
      "\tf1 score for test data : 0.9784717293588835\n",
      "distance weighted classifier with k =1\n",
      "\tprecision for training data : 1.0\n",
      "\trecall for training data : 1.0\n",
      "\tf1 score for training data : 1.0\n",
      "\tprecision for test data : 0.9791666666666666\n",
      "\trecall for test data : 0.9777777777777779\n",
      "\tf1 score for test data : 0.9784717293588835\n",
      "uniform classifier with k =3\n",
      "\tprecision for training data : 0.9526143790849672\n",
      "\trecall for training data : 0.9523809523809524\n",
      "\tf1 score for training data : 0.9524976514316055\n",
      "\tprecision for test data : 0.9791666666666666\n",
      "\trecall for test data : 0.9777777777777779\n",
      "\tf1 score for test data : 0.9784717293588835\n",
      "distance weighted classifier with k =3\n",
      "\tprecision for training data : 1.0\n",
      "\trecall for training data : 1.0\n",
      "\tf1 score for training data : 1.0\n",
      "\tprecision for test data : 0.9791666666666666\n",
      "\trecall for test data : 0.9777777777777779\n",
      "\tf1 score for test data : 0.9784717293588835\n",
      "uniform classifier with k =5\n",
      "\tprecision for training data : 0.9628719628719629\n",
      "\trecall for training data : 0.9619047619047619\n",
      "\tf1 score for training data : 0.9623881193789527\n",
      "\tprecision for test data : 0.9791666666666666\n",
      "\trecall for test data : 0.9777777777777779\n",
      "\tf1 score for test data : 0.9784717293588835\n",
      "distance weighted classifier with k =5\n",
      "\tprecision for training data : 1.0\n",
      "\trecall for training data : 1.0\n",
      "\tf1 score for training data : 1.0\n",
      "\tprecision for test data : 0.9791666666666666\n",
      "\trecall for test data : 0.9777777777777779\n",
      "\tf1 score for test data : 0.9784717293588835\n",
      "0.760934591293335\n"
     ]
    }
   ],
   "source": [
    "import time\n",
    "start=time.time()\n",
    "for k in [1,3,5]:\n",
    "    classifier = KNearestNeighbors(k)\n",
    "    classifier.fit(X_train,y_train)\n",
    "    y_pred=classifier.predict(X_train)\n",
    "    print('uniform classifier with k ={}'.format(k))\n",
    "    print('\\tprecision for training data : {}'.format(precision(y_pred,y_train)))\n",
    "    print('\\trecall for training data : {}'.format(recall(y_pred,y_train)))\n",
    "    print('\\tf1 score for training data : {}'.format(f1score(y_pred,y_train)))\n",
    "    y_pred=classifier.predict(X_test)\n",
    "    print('\\tprecision for test data : {}'.format(precision(y_pred,y_test)))\n",
    "    print('\\trecall for test data : {}'.format(recall(y_pred,y_test)))\n",
    "    print('\\tf1 score for test data : {}'.format(f1score(y_pred,y_test)))\n",
    "    classifier = KNearestNeighbors(k,distance_metric=euclidean_distance)\n",
    "    classifier.fit(X_train,y_train)\n",
    "    y_pred=classifier.predict(X_train)\n",
    "    print('distance weighted classifier with k ={}'.format(k))\n",
    "    print('\\tprecision for training data : {}'.format(precision(y_pred,y_train)))\n",
    "    print('\\trecall for training data : {}'.format(recall(y_pred,y_train)))\n",
    "    print('\\tf1 score for training data : {}'.format(f1score(y_pred,y_train)))\n",
    "    y_pred=classifier.predict(X_test)\n",
    "    print('\\tprecision for test data : {}'.format(precision(y_pred,y_test)))\n",
    "    print('\\trecall for test data : {}'.format(recall(y_pred,y_test)))\n",
    "    print('\\tf1 score for test data : {}'.format(f1score(y_pred,y_test)))\n",
    "print(time.time()-start)"
   ]
  },
  {
   "cell_type": "markdown",
   "metadata": {
    "colab_type": "text",
    "id": "iaW0okViZ2Fi"
   },
   "source": [
    "uniform weighting suffers from over fitting with low k and doesn't generalize correctly on test data. increaing k reduces overfitting yet if k is large it generalizes too much leading to poor results.\n",
    "for distance based weighting results on train data is always the same m=because of the weights and the model generalizes better with increasing k without suffering from too much generalization as in uniform weightings. for k=1 both models behave similarly"
   ]
  },
  {
   "cell_type": "markdown",
   "metadata": {
    "colab_type": "text",
    "id": "AJQ5IPagZ2Fj"
   },
   "source": [
    "3) Explain why kNN with `k=1` achieves perfect results on the training data. Why is it not the best model?"
   ]
  },
  {
   "cell_type": "markdown",
   "metadata": {
    "colab_type": "text",
    "id": "BEOp0cG7Z2Fj"
   },
   "source": [
    "because with k=1 on training data its nearest neighbour would always be itself which means it gets always the correct label. However, this is not the best model because it suffferes from overfitting shich leads to poor generalization "
   ]
  }
 ],
 "metadata": {
  "colab": {
   "collapsed_sections": [],
   "name": "assignment1.ipynb",
   "provenance": []
  },
  "kernelspec": {
   "display_name": "Python 3",
   "language": "python",
   "name": "python3"
  },
  "language_info": {
   "codemirror_mode": {
    "name": "ipython",
    "version": 3
   },
   "file_extension": ".py",
   "mimetype": "text/x-python",
   "name": "python",
   "nbconvert_exporter": "python",
   "pygments_lexer": "ipython3",
   "version": "3.6.7"
  }
 },
 "nbformat": 4,
 "nbformat_minor": 1
}
